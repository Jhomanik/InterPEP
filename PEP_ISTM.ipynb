{
 "cells": [
  {
   "cell_type": "markdown",
   "metadata": {
    "id": "sqmMqqn32pKx"
   },
   "source": [
    "# Installing libraries"
   ]
  },
  {
   "cell_type": "code",
   "execution_count": 1,
   "metadata": {
    "colab": {
     "base_uri": "https://localhost:8080/"
    },
    "id": "rXax-_ALjXzp",
    "outputId": "584ca330-94c6-4760-fddf-9e3b9e3da242"
   },
   "outputs": [
    {
     "name": "stdout",
     "output_type": "stream",
     "text": [
      "Requirement already satisfied: PEPit in c:\\users\\sd\\anaconda2\\envs\\notebook\\lib\\site-packages (0.2.0)\n",
      "Requirement already satisfied: cvxpy>=1.1.17 in c:\\users\\sd\\anaconda2\\envs\\notebook\\lib\\site-packages (from PEPit) (1.2.1)\n",
      "Requirement already satisfied: ecos>=2 in c:\\users\\sd\\anaconda2\\envs\\notebook\\lib\\site-packages (from cvxpy>=1.1.17->PEPit) (2.0.10)\n",
      "Requirement already satisfied: scipy>=1.1.0 in c:\\users\\sd\\anaconda2\\envs\\notebook\\lib\\site-packages (from cvxpy>=1.1.17->PEPit) (1.6.2)\n",
      "Requirement already satisfied: scs>=1.1.6 in c:\\users\\sd\\anaconda2\\envs\\notebook\\lib\\site-packages (from cvxpy>=1.1.17->PEPit) (3.2.0)\n",
      "Requirement already satisfied: numpy>=1.15 in c:\\users\\sd\\anaconda2\\envs\\notebook\\lib\\site-packages (from cvxpy>=1.1.17->PEPit) (1.19.5)\n",
      "Requirement already satisfied: osqp>=0.4.1 in c:\\users\\sd\\anaconda2\\envs\\notebook\\lib\\site-packages (from cvxpy>=1.1.17->PEPit) (0.6.2.post5)\n",
      "Requirement already satisfied: qdldl in c:\\users\\sd\\anaconda2\\envs\\notebook\\lib\\site-packages (from osqp>=0.4.1->cvxpy>=1.1.17->PEPit) (0.1.5.post2)\n",
      "Note: you may need to restart the kernel to use updated packages.\n"
     ]
    }
   ],
   "source": [
    "!pip install PEPit"
   ]
  },
  {
   "cell_type": "code",
   "execution_count": 2,
   "metadata": {},
   "outputs": [
    {
     "name": "stdout",
     "output_type": "stream",
     "text": [
      "Requirement already satisfied: Mosek in c:\\users\\sd\\anaconda2\\envs\\notebook\\lib\\site-packages (10.0.26)\n",
      "Note: you may need to restart the kernel to use updated packages.\n"
     ]
    }
   ],
   "source": [
    "!pip install Mosek"
   ]
  },
  {
   "cell_type": "code",
   "execution_count": 1,
   "metadata": {
    "id": "RhHdPp5hjrXc"
   },
   "outputs": [],
   "source": [
    "from PEPit import PEP\n",
    "from PEPit.functions import SmoothConvexFunction, SmoothStronglyConvexFunction\n",
    "from PEPit.primitive_steps import inexact_gradient_step\n",
    "from PEPit.point import Point\n",
    "import mosek"
   ]
  },
  {
   "cell_type": "code",
   "execution_count": 1,
   "metadata": {},
   "outputs": [
    {
     "name": "stdout",
     "output_type": "stream",
     "text": [
      "['ECOS', 'ECOS_BB', 'MOSEK', 'OSQP', 'SCIPY', 'SCS']\n"
     ]
    }
   ],
   "source": [
    "import cvxpy as cp\n",
    "\n",
    "print(cp.installed_solvers())"
   ]
  },
  {
   "cell_type": "markdown",
   "metadata": {},
   "source": [
    "If solver MOSEK is not available one can use SCS solver instead"
   ]
  },
  {
   "cell_type": "code",
   "execution_count": 3,
   "metadata": {
    "id": "yAFKF1VY2hPk"
   },
   "outputs": [],
   "source": [
    "import numpy as np\n",
    "import matplotlib.pyplot as plt\n",
    "import pandas as pd\n",
    "import scipy\n",
    "import re\n",
    "from numpy.linalg import norm\n",
    "from math import floor\n",
    "from tqdm import tqdm  \n",
    "from itertools import product\n",
    "from sklearn.model_selection import train_test_split "
   ]
  },
  {
   "cell_type": "code",
   "execution_count": 4,
   "metadata": {
    "id": "yz0nL7772n6-"
   },
   "outputs": [],
   "source": [
    "#graphs settings\n",
    "plt.rcParams['lines.linewidth'] = 1.5\n",
    "plt.rcParams['lines.markersize'] = 12\n",
    "plt.rcParams['xtick.labelsize'] = 20\n",
    "plt.rcParams['ytick.labelsize'] = 20\n",
    "plt.rcParams['legend.fontsize'] = 14\n",
    "plt.rcParams['axes.titlesize'] = 15\n",
    "plt.rcParams['axes.labelsize'] = 15"
   ]
  },
  {
   "cell_type": "markdown",
   "metadata": {
    "id": "GQkUz4CY2qsu"
   },
   "source": [
    "# CODE"
   ]
  },
  {
   "cell_type": "code",
   "execution_count": 10,
   "metadata": {
    "id": "dyhXCA1kld3L"
   },
   "outputs": [],
   "source": [
    "#Obtain inexact gradient with both relative and absolute setup\n",
    "def inexact_grad(x, f, epsilon, notion = 'relative'):\n",
    "    exact_grad_x = f.gradient(x)\n",
    "    inexact_grad_x = Point()\n",
    "    if epsilon != 0.:\n",
    "        if notion == 'absolute':\n",
    "            f.add_constraint((exact_grad_x - inexact_grad_x) ** 2 - epsilon ** 2 <= 0)\n",
    "        elif notion == 'relative':\n",
    "            f.add_constraint((exact_grad_x - inexact_grad_x) ** 2 - epsilon ** 2 * (exact_grad_x ** 2) <= 0)\n",
    "        else:\n",
    "            raise ValueError(\"inexact_gradient_step supports only notion in ['absolute', 'relative'],\"\n",
    "                            \" got {}\".format(notion))\n",
    "        return inexact_grad_x, exact_grad_x\n",
    "    else:\n",
    "        return exact_grad_x, exact_grad_x"
   ]
  },
  {
   "cell_type": "code",
   "execution_count": 11,
   "metadata": {},
   "outputs": [],
   "source": [
    "#Implementation of ISTM algorithm on whole R^2 \n",
    "def ISTM(f, N, x_0, L, a = None, epsilon = 0., p = 2, notion = 'relative'):\n",
    "    \n",
    "    if a is None:\n",
    "        a = 2       \n",
    "    x_k = x_0\n",
    "    alpha_k = 0\n",
    "    A_k = 0\n",
    "    y_k = x_k\n",
    "    z_k = x_k\n",
    "    \n",
    "    for k in range(N):\n",
    "        alpha_k_plus_1  = (k + 2) ** (p - 1) / (2 * a * L)\n",
    "        A_k_plus_1 = alpha_k_plus_1 + A_k\n",
    "        \n",
    "        x_k_plus_1 = 1/A_k_plus_1 * (A_k * y_k + alpha_k_plus_1 * z_k)\n",
    "        inexact_grad_x, exact_grad_x = inexact_grad(x_k_plus_1 , f, epsilon, notion = notion )\n",
    "        z_k_plus_1 = z_k - alpha_k_plus_1 * inexact_grad_x\n",
    "        y_k_plus_1 = 1 / A_k_plus_1 * (A_k * y_k + alpha_k_plus_1 * z_k_plus_1)\n",
    "        \n",
    "        y_k = y_k_plus_1\n",
    "        z_k = z_k_plus_1\n",
    "        x_k = x_k_plus_1\n",
    "        A_k = A_k_plus_1\n",
    "        alpha_k = alpha_k_plus_1\n",
    "        \n",
    "    return y_k"
   ]
  },
  {
   "cell_type": "code",
   "execution_count": 12,
   "metadata": {
    "id": "lLKAfzgfj8b3"
   },
   "outputs": [],
   "source": [
    "def solve_problem( N, epsilon, p, a = None, L = 1, mu = None, problem_algo = ISTM, verbose = 0, notion = 'relative', solver = 'MOSEK'):\n",
    "    problem = PEP()\n",
    "\n",
    "    # Declare a (strongly) convex smooth function\n",
    "    if mu is None or mu == 0:\n",
    "        func = problem.declare_function(SmoothConvexFunction, L = L)\n",
    "    else:\n",
    "        func = problem.declare_function(SmoothStronglyConvexFunction, L = L, mu = mu)\n",
    "\n",
    "    # Start by defining its unique optimal point xs = x_* and corresponding function value fs = f_*\n",
    "    x_s = func.stationary_point()\n",
    "    f_s = func(x_s)\n",
    "\n",
    "    # Then define the starting point x0 of the algorithm\n",
    "    # as well as corresponding inexact gradient and function value g0 and f0\n",
    "    x_0 = problem.set_initial_point()\n",
    "\n",
    "    # Set the initial constraint that is the distance between f0 and f_*\n",
    "    \n",
    "    problem.set_initial_condition((x_0 - x_s) ** 2 <= 1)\n",
    "    #calculate iterations of intermediate_Gradient \n",
    "\n",
    "\n",
    "    y_N = problem_algo(func, N, x_0, L = L, a = a, epsilon = epsilon, p = p, notion = notion)\n",
    "\n",
    "    problem.set_performance_metric(func(y_N) - f_s)\n",
    "\n",
    "    #Solve optimization problem\n",
    "\n",
    "    pepit_verbose = max(verbose, 0)\n",
    "    pepit_tau = problem.solve(verbose = pepit_verbose, solver = solver)\n",
    "    return pepit_tau"
   ]
  },
  {
   "cell_type": "code",
   "execution_count": 18,
   "metadata": {},
   "outputs": [],
   "source": [
    "# run iter_num of iterations of algorithm and return list of pepit_taus \n",
    "def run_iterations(iter_num, epsilon, p = 2, a_s = None, L = 1, mu = None, problem_algo = ISTM, verbose = 0, notion = 'relative', solver = 'MOSEK'):\n",
    "    pepit_taus = []\n",
    "    if verbose == 0:\n",
    "        internal_range = range(iter_num + 1)\n",
    "    else:\n",
    "        internal_range = tqdm(range(iter_num + 1)) \n",
    "    if a_s is None:\n",
    "        a_s = [None] * (iter_num + 1)\n",
    "        \n",
    "    for i, N in enumerate(internal_range):\n",
    "        pepit_taus.append(solve_problem(N = N, epsilon = epsilon, a = a_s[i], L = L, mu = mu, p = p, problem_algo = problem_algo, verbose = verbose, notion = notion, solver = solver))\n",
    "    \n",
    "    return pepit_taus"
   ]
  },
  {
   "cell_type": "markdown",
   "metadata": {
    "id": "GFeQ8-p32tGb"
   },
   "source": [
    "# Experiment"
   ]
  },
  {
   "cell_type": "markdown",
   "metadata": {},
   "source": [
    "For a more detailed description of the experimental conditions, we refer the reader to the original article"
   ]
  },
  {
   "cell_type": "markdown",
   "metadata": {},
   "source": [
    "## STM N disconvergence (Extra Exp 1)"
   ]
  },
  {
   "cell_type": "code",
   "execution_count": 16,
   "metadata": {},
   "outputs": [],
   "source": [
    "first_exp_data_dict = dict()"
   ]
  },
  {
   "cell_type": "code",
   "execution_count": 19,
   "metadata": {},
   "outputs": [
    {
     "name": "stderr",
     "output_type": "stream",
     "text": [
      "100%|████████████████████████████████████████████████████████████████████████████████████| 3/3 [01:08<00:00, 22.81s/it]\n"
     ]
    }
   ],
   "source": [
    "a_range = list(range(2,30,3))\n",
    "eps_range = [0.65, 0.8, 0.95]\n",
    "p = 2\n",
    "mu = 0\n",
    "L  = 1\n",
    "iter_num = 30\n",
    "\n",
    "for eps in tqdm(eps_range):\n",
    "    a_dict = dict()\n",
    "    for a in a_range:\n",
    "        pepit_taus = run_iterations(iter_num, a_s = [a] * (iter_num + 1), epsilon = eps, L = L, mu = mu, p = p)\n",
    "        a_dict[a] = pepit_taus\n",
    "    first_exp_data_dict[eps] = a_dict "
   ]
  },
  {
   "cell_type": "code",
   "execution_count": 22,
   "metadata": {},
   "outputs": [],
   "source": [
    "import pickle \n",
    "\n",
    "with open('STM_data_dict.pkl', 'wb') as f:\n",
    "        pickle.dump(first_exp_data_dict, f)"
   ]
  },
  {
   "cell_type": "code",
   "execution_count": 46,
   "metadata": {},
   "outputs": [
    {
     "data": {
      "image/png": "[encoded data removed]",
      "text/plain": [
       "<Figure size 864x576 with 1 Axes>"
      ]
     },
     "metadata": {
      "needs_background": "light"
     },
     "output_type": "display_data"
    }
   ],
   "source": [
    "plt.figure(figsize = (12,8))\n",
    "p = 2\n",
    "a_range = range(2,30,3)\n",
    "colors = ['g', 'y', 'b', 'r', 'orange', 'magenta']\n",
    "i = 0\n",
    "\n",
    "for eps in eps_range:\n",
    "    \n",
    "    N_pep_s = []\n",
    "    for a in a_range:\n",
    "        N_pep = np.argmin(first_exp_data_dict[eps][a])\n",
    "        if N_pep < iter_num + 1:\n",
    "            N_pep_s.append(N_pep)\n",
    "    theory = [(4.5**2 *a/eps**2)**(1/p) for a in a_range if (4.5**2 *a/eps**2)**(1/p) < iter_num + 5]\n",
    "    \n",
    "    plt.plot(a_range[:len(N_pep_s)], N_pep_s, color = colors[i], label = 'PEP, $\\\\hat{\\\\varepsilon}$ = ' + str(np.round(eps, 2)) + f', p = {p}')\n",
    "    i += 1\n",
    "    \n",
    "    plt.plot(a_range[:len(theory)], theory, color = colors[i], label = 'theory $\\\\frac{4.5* \\\\sqrt{a}}{\\\\hat{\\\\varepsilon}}$, $\\\\hat{\\\\varepsilon}$ = ' + str(np.round(eps, 2)) + f', p = {p}')\n",
    "    i += 1\n",
    "\n",
    "plt.xlabel('parameter a', fontsize = 20)\n",
    "plt.ylabel('iteration $N(a)$ at which disconvergence starts', fontsize = 20)\n",
    "plt.legend()\n",
    "plt.grid()\n",
    "#plt.savefig('STM_N_disconvergence.pdf')"
   ]
  },
  {
   "cell_type": "markdown",
   "metadata": {},
   "source": [
    "## STM Convergence (Extra Exp 2)"
   ]
  },
  {
   "cell_type": "code",
   "execution_count": 22,
   "metadata": {},
   "outputs": [],
   "source": [
    "second_exp_data_dict = dict()"
   ]
  },
  {
   "cell_type": "code",
   "execution_count": 23,
   "metadata": {},
   "outputs": [],
   "source": [
    "eps_range = np.linspace(0.1, 0.95, 7)\n",
    "p = 2\n",
    "mu = 0\n",
    "L  = 1\n",
    "iter_num = 50\n",
    "\n",
    "for eps in tqdm(eps_range):\n",
    "        a_s = [max(1, N**p * eps**2, N**(p / 2) * eps, N**(p / 4) * eps**0.5) for N in range(iter_num + 1)]\n",
    "        pepit_taus = run_iterations(iter_num, a_s = a_s, epsilon = eps, L = L, mu = mu, p = p)\n",
    "        second_exp_data_dict[eps] = pepit_taus "
   ]
  },
  {
   "cell_type": "code",
   "execution_count": 16,
   "metadata": {},
   "outputs": [],
   "source": [
    "import pickle \n",
    "\n",
    "with open('STM_convergence_dict.pkl', 'wb') as f:\n",
    "        pickle.dump(second_exp_data_dict, f) "
   ]
  },
  {
   "cell_type": "code",
   "execution_count": 41,
   "metadata": {},
   "outputs": [
    {
     "data": {
      "image/png": "[encoded data removed]",
      "text/plain": [
       "<Figure size 864x576 with 1 Axes>"
      ]
     },
     "metadata": {
      "needs_background": "light"
     },
     "output_type": "display_data"
    }
   ],
   "source": [
    "plt.figure(figsize = (12,8))\n",
    "\n",
    "colors = ['g', 'y', 'b', 'r', 'orange', 'magenta', 'brown']\n",
    "i = 0\n",
    "iter_num = 50\n",
    "eps_range = np.linspace(0.1, 0.95, 7)\n",
    "\n",
    "for eps in eps_range:\n",
    "    plt.plot(range(iter_num + 1), second_exp_data_dict[eps], color = colors[i], label = '$\\\\hat{\\\\varepsilon}$ = ' + f'{np.round(eps, 3)}')\n",
    "    i += 1\n",
    "plt.xlabel('number of iteartion N', fontsize = 20)\n",
    "plt.ylabel('maximum $f(y^N) - f^*$', fontsize = 20)\n",
    "plt.legend()\n",
    "plt.grid()\n",
    "#plt.savefig('STM_Convergence.pdf')"
   ]
  },
  {
   "cell_type": "code",
   "execution_count": 27,
   "metadata": {},
   "outputs": [
    {
     "name": "stdout",
     "output_type": "stream",
     "text": [
      "Error: 0.06387757206134284\n",
      "Coef [ 0.59228309 -0.03349713]\n"
     ]
    },
    {
     "data": {
      "image/png": "[encoded data removed]",
      "text/plain": [
       "<Figure size 864x576 with 1 Axes>"
      ]
     },
     "metadata": {
      "needs_background": "light"
     },
     "output_type": "display_data"
    }
   ],
   "source": [
    "plt.figure(figsize = (12,8))\n",
    "\n",
    "eps_range = np.linspace(0.1, 0.95, 7)\n",
    "platos = [second_exp_data_dict[eps][-1] for eps in eps_range]\n",
    "theory  = [0.5 * eps**2 for eps in eps_range]\n",
    "\n",
    "plt.plot(eps_range, platos, label = 'PEP', color = 'g')\n",
    "plt.plot(eps_range, theory, label = 'Theory, $\\\\frac{\\\\hat{\\\\varepsilon}^2}{2}$', color = 'r')\n",
    "plt.xlabel('relative noise $\\\\hat{\\\\varepsilon}$', fontsize = 20)\n",
    "plt.ylabel('oscillation plateau', fontsize = 20)\n",
    "plt.legend(prop = {'size' : 16})\n",
    "plt.grid()\n",
    "#plt.savefig('STM_plateau.pdf')\n",
    "p = np.polyfit(x = eps_range , y = platos, deg = 1)\n",
    "error = np.linalg.norm(np.polyval(p, eps_range) - platos)\n",
    "print(f'Error: {error}')\n",
    "print('Coef', p)"
   ]
  },
  {
   "cell_type": "markdown",
   "metadata": {},
   "source": [
    "$$f = \\frac12 \\varepsilon^2 LR^2$$"
   ]
  },
  {
   "cell_type": "markdown",
   "metadata": {},
   "source": [
    "## ISTM N disconvergence (Exp 1)"
   ]
  },
  {
   "cell_type": "code",
   "execution_count": 28,
   "metadata": {},
   "outputs": [],
   "source": [
    "third_exp_data_dict = dict()"
   ]
  },
  {
   "cell_type": "code",
   "execution_count": 30,
   "metadata": {},
   "outputs": [
    {
     "name": "stderr",
     "output_type": "stream",
     "text": [
      "100%|████████████████████████████████████████████████████████████████████████████████████| 3/3 [01:03<00:00, 21.30s/it]\n"
     ]
    }
   ],
   "source": [
    "a_range = np.linspace(1.5,15,10)\n",
    "p_range = [1.5, 1.75, 2]\n",
    "\n",
    "mu = 0\n",
    "L  = 1\n",
    "eps = 0.95\n",
    "iter_num = 10\n",
    "\n",
    "for p in tqdm(p_range):\n",
    "    a_dict = dict()\n",
    "    for a in a_range:\n",
    "        pepit_taus = run_iterations(iter_num, a_s = [a] * (iter_num + 1), epsilon = eps, L = L, mu = mu, p = p)\n",
    "\n",
    "        a_dict[a] = pepit_taus\n",
    "    third_exp_data_dict[p] = a_dict"
   ]
  },
  {
   "cell_type": "code",
   "execution_count": 33,
   "metadata": {},
   "outputs": [],
   "source": [
    "import pickle \n",
    "\n",
    "with open('ISTM_eps_95_data_dict.pkl', 'wb') as f:\n",
    "        pickle.dump(third_exp_data_dict, f)"
   ]
  },
  {
   "cell_type": "code",
   "execution_count": 40,
   "metadata": {},
   "outputs": [
    {
     "data": {
      "image/png": "[encoded data removed]",
      "text/plain": [
       "<Figure size 864x576 with 1 Axes>"
      ]
     },
     "metadata": {
      "needs_background": "light"
     },
     "output_type": "display_data"
    }
   ],
   "source": [
    "plt.figure(figsize = (12,8))\n",
    "eps = 0.95\n",
    "a_range = np.linspace(1.5,15,10)\n",
    "colors = ['g', 'y', 'b', 'r', 'orange', 'magenta']\n",
    "i = 0\n",
    "\n",
    "for p in p_range:\n",
    "    N_pep_s = []\n",
    "    for a in a_range:\n",
    "        N_pep = np.argmin(third_exp_data_dict[p][a]) \n",
    "        if N_pep < iter_num + 1:\n",
    "            N_pep_s.append(N_pep)\n",
    "    theory = [(4.5**2 *a/eps**2)**(1/p) for a in a_range if (4.5**2 *a/eps**2)**(1/p) <= iter_num + 5]\n",
    "    \n",
    "    plt.plot(a_range[:len(N_pep_s)], N_pep_s, color = colors[i], label = 'PEP, $\\\\hat{\\\\varepsilon}$ = ' + str(np.round(eps, 2)) + f', p = {p}')\n",
    "    i += 1\n",
    "    plt.plot(a_range[:len(theory)], theory, color = colors[i], label = 'theory $\\\\left(\\\\frac{4.5^2 a}{\\\\hat{\\\\varepsilon}^2} \\\\right)^\\\\frac{1}{p}$, $\\\\hat{\\\\varepsilon}$ = ' + str(np.round(eps, 2)) + f', p = {p}')\n",
    "    i += 1\n",
    "    \n",
    "plt.xlabel('parameter a', fontsize = 20)\n",
    "plt.ylabel('iteration $N(a)$ at which disconvergence starts', fontsize = 20)\n",
    "plt.legend(prop={'size': 13})\n",
    "plt.grid()\n",
    "#plt.savefig('ISTM_N_disconvergence.pdf')"
   ]
  },
  {
   "cell_type": "markdown",
   "metadata": {},
   "source": [
    "## ISTM Convergence (Exp 2)"
   ]
  },
  {
   "cell_type": "code",
   "execution_count": 1,
   "metadata": {},
   "outputs": [],
   "source": [
    "forth_exp_data_dict = dict()"
   ]
  },
  {
   "cell_type": "code",
   "execution_count": 37,
   "metadata": {},
   "outputs": [
    {
     "name": "stderr",
     "output_type": "stream",
     "text": [
      "100%|████████████████████████████████████████████████████████████████████████████████████| 5/5 [03:02<00:00, 36.58s/it]\n"
     ]
    }
   ],
   "source": [
    "p_range = [1, 1.25, 1.5, 1.75, 2]\n",
    "\n",
    "mu = 0\n",
    "L  = 1\n",
    "iter_num = 50\n",
    "eps = 0.95\n",
    "\n",
    "for p in tqdm(p_range):\n",
    "    \n",
    "        a_s = [max(1, N**p * eps**2, N**(p / 2) * eps, N**(p / 4) * eps**0.5) for N in range(iter_num + 1)]\n",
    "        pepit_taus = run_iterations(iter_num, a_s = a_s, epsilon = eps, L = L, mu = mu, p = p)\n",
    "        forth_exp_data_dict[p] = pepit_taus "
   ]
  },
  {
   "cell_type": "code",
   "execution_count": 39,
   "metadata": {},
   "outputs": [],
   "source": [
    "import pickle \n",
    "\n",
    "with open('ISTM_convergence_dict.pkl', 'wb') as f:\n",
    "        pickle.dump(forth_exp_data_dict, f)"
   ]
  },
  {
   "cell_type": "code",
   "execution_count": 38,
   "metadata": {},
   "outputs": [
    {
     "data": {
      "image/png": "[encoded data removed]",
      "text/plain": [
       "<Figure size 864x576 with 1 Axes>"
      ]
     },
     "metadata": {
      "needs_background": "light"
     },
     "output_type": "display_data"
    }
   ],
   "source": [
    "plt.figure(figsize = (12,8))\n",
    "\n",
    "colors = ['g', 'y', 'b', 'r', 'orange', 'magenta', 'brown']\n",
    "i = 0\n",
    "\n",
    "for p in p_range:\n",
    "    plt.plot(range(iter_num + 1), forth_exp_data_dict[p], color = colors[i], label = f'p = {p}')\n",
    "    i += 1\n",
    "\n",
    "plt.xlabel('number of iteration N', fontsize =20)\n",
    "plt.ylabel('maximum $f(y^N) - f^*$', fontsize = 20)\n",
    "plt.legend()\n",
    "plt.grid()\n",
    "#plt.savefig('ISTM_Convergence.pdf')"
   ]
  }
 ],
 "metadata": {
  "colab": {
   "collapsed_sections": [
    "GFeQ8-p32tGb",
    "ELkR8So7Khsi",
    "9svXkQm2MqkC",
    "JRp90berZHJt"
   ],
   "provenance": []
  },
  "kernelspec": {
   "display_name": "Python 3 (ipykernel)",
   "language": "python",
   "name": "python3"
  },
  "language_info": {
   "codemirror_mode": {
    "name": "ipython",
    "version": 3
   },
   "file_extension": ".py",
   "mimetype": "text/x-python",
   "name": "python",
   "nbconvert_exporter": "python",
   "pygments_lexer": "ipython3",
   "version": "3.9.13"
  },
  "widgets": {
   "application/vnd.jupyter.widget-state+json": {
    "0b7eb42c9f964043b22722b006efb183": {
     "model_module": "@jupyter-widgets/controls",
     "model_module_version": "1.5.0",
     "model_name": "FloatProgressModel",
     "state": {
      "_dom_classes": [],
      "_model_module": "@jupyter-widgets/controls",
      "_model_module_version": "1.5.0",
      "_model_name": "FloatProgressModel",
      "_view_count": null,
      "_view_module": "@jupyter-widgets/controls",
      "_view_module_version": "1.5.0",
      "_view_name": "ProgressView",
      "bar_style": "danger",
      "description": "",
      "description_tooltip": null,
      "layout": "IPY_MODEL_34bf8ae7a2dd4eb49c2d839ebf63a447",
      "max": 5,
      "min": 0,
      "orientation": "horizontal",
      "style": "IPY_MODEL_4c4721e48908473f9c82bad04ea2c4eb",
      "value": 0
     }
    },
    "0bd95d4f62164f04bf32a85efac34792": {
     "model_module": "@jupyter-widgets/controls",
     "model_module_version": "1.5.0",
     "model_name": "ProgressStyleModel",
     "state": {
      "_model_module": "@jupyter-widgets/controls",
      "_model_module_version": "1.5.0",
      "_model_name": "ProgressStyleModel",
      "_view_count": null,
      "_view_module": "@jupyter-widgets/base",
      "_view_module_version": "1.2.0",
      "_view_name": "StyleView",
      "bar_color": null,
      "description_width": ""
     }
    },
    "0d487a3b72f14eddbe4d4d05aa765a0e": {
     "model_module": "@jupyter-widgets/base",
     "model_module_version": "1.2.0",
     "model_name": "LayoutModel",
     "state": {
      "_model_module": "@jupyter-widgets/base",
      "_model_module_version": "1.2.0",
      "_model_name": "LayoutModel",
      "_view_count": null,
      "_view_module": "@jupyter-widgets/base",
      "_view_module_version": "1.2.0",
      "_view_name": "LayoutView",
      "align_content": null,
      "align_items": null,
      "align_self": null,
      "border": null,
      "bottom": null,
      "display": null,
      "flex": null,
      "flex_flow": null,
      "grid_area": null,
      "grid_auto_columns": null,
      "grid_auto_flow": null,
      "grid_auto_rows": null,
      "grid_column": null,
      "grid_gap": null,
      "grid_row": null,
      "grid_template_areas": null,
      "grid_template_columns": null,
      "grid_template_rows": null,
      "height": null,
      "justify_content": null,
      "justify_items": null,
      "left": null,
      "margin": null,
      "max_height": null,
      "max_width": null,
      "min_height": null,
      "min_width": null,
      "object_fit": null,
      "object_position": null,
      "order": null,
      "overflow": null,
      "overflow_x": null,
      "overflow_y": null,
      "padding": null,
      "right": null,
      "top": null,
      "visibility": null,
      "width": null
     }
    },
    "109b3c61d037468382cddc26baf08c16": {
     "model_module": "@jupyter-widgets/controls",
     "model_module_version": "1.5.0",
     "model_name": "FloatProgressModel",
     "state": {
      "_dom_classes": [],
      "_model_module": "@jupyter-widgets/controls",
      "_model_module_version": "1.5.0",
      "_model_name": "FloatProgressModel",
      "_view_count": null,
      "_view_module": "@jupyter-widgets/controls",
      "_view_module_version": "1.5.0",
      "_view_name": "ProgressView",
      "bar_style": "danger",
      "description": "",
      "description_tooltip": null,
      "layout": "IPY_MODEL_83ba745c32b84199a38c629787407eca",
      "max": 5,
      "min": 0,
      "orientation": "horizontal",
      "style": "IPY_MODEL_9f31e506c3de4fef997e8c0710910db6",
      "value": 1
     }
    },
    "1a0db1b4db474c4d9e005b2b536441af": {
     "model_module": "@jupyter-widgets/base",
     "model_module_version": "1.2.0",
     "model_name": "LayoutModel",
     "state": {
      "_model_module": "@jupyter-widgets/base",
      "_model_module_version": "1.2.0",
      "_model_name": "LayoutModel",
      "_view_count": null,
      "_view_module": "@jupyter-widgets/base",
      "_view_module_version": "1.2.0",
      "_view_name": "LayoutView",
      "align_content": null,
      "align_items": null,
      "align_self": null,
      "border": null,
      "bottom": null,
      "display": null,
      "flex": null,
      "flex_flow": null,
      "grid_area": null,
      "grid_auto_columns": null,
      "grid_auto_flow": null,
      "grid_auto_rows": null,
      "grid_column": null,
      "grid_gap": null,
      "grid_row": null,
      "grid_template_areas": null,
      "grid_template_columns": null,
      "grid_template_rows": null,
      "height": null,
      "justify_content": null,
      "justify_items": null,
      "left": null,
      "margin": null,
      "max_height": null,
      "max_width": null,
      "min_height": null,
      "min_width": null,
      "object_fit": null,
      "object_position": null,
      "order": null,
      "overflow": null,
      "overflow_x": null,
      "overflow_y": null,
      "padding": null,
      "right": null,
      "top": null,
      "visibility": null,
      "width": null
     }
    },
    "1a20a38fe5624bbaaccef3d57ddac16e": {
     "model_module": "@jupyter-widgets/base",
     "model_module_version": "1.2.0",
     "model_name": "LayoutModel",
     "state": {
      "_model_module": "@jupyter-widgets/base",
      "_model_module_version": "1.2.0",
      "_model_name": "LayoutModel",
      "_view_count": null,
      "_view_module": "@jupyter-widgets/base",
      "_view_module_version": "1.2.0",
      "_view_name": "LayoutView",
      "align_content": null,
      "align_items": null,
      "align_self": null,
      "border": null,
      "bottom": null,
      "display": null,
      "flex": null,
      "flex_flow": null,
      "grid_area": null,
      "grid_auto_columns": null,
      "grid_auto_flow": null,
      "grid_auto_rows": null,
      "grid_column": null,
      "grid_gap": null,
      "grid_row": null,
      "grid_template_areas": null,
      "grid_template_columns": null,
      "grid_template_rows": null,
      "height": null,
      "justify_content": null,
      "justify_items": null,
      "left": null,
      "margin": null,
      "max_height": null,
      "max_width": null,
      "min_height": null,
      "min_width": null,
      "object_fit": null,
      "object_position": null,
      "order": null,
      "overflow": null,
      "overflow_x": null,
      "overflow_y": null,
      "padding": null,
      "right": null,
      "top": null,
      "visibility": null,
      "width": null
     }
    },
    "1a48acbadd134922bdc67044632d04f0": {
     "model_module": "@jupyter-widgets/base",
     "model_module_version": "1.2.0",
     "model_name": "LayoutModel",
     "state": {
      "_model_module": "@jupyter-widgets/base",
      "_model_module_version": "1.2.0",
      "_model_name": "LayoutModel",
      "_view_count": null,
      "_view_module": "@jupyter-widgets/base",
      "_view_module_version": "1.2.0",
      "_view_name": "LayoutView",
      "align_content": null,
      "align_items": null,
      "align_self": null,
      "border": null,
      "bottom": null,
      "display": null,
      "flex": null,
      "flex_flow": null,
      "grid_area": null,
      "grid_auto_columns": null,
      "grid_auto_flow": null,
      "grid_auto_rows": null,
      "grid_column": null,
      "grid_gap": null,
      "grid_row": null,
      "grid_template_areas": null,
      "grid_template_columns": null,
      "grid_template_rows": null,
      "height": null,
      "justify_content": null,
      "justify_items": null,
      "left": null,
      "margin": null,
      "max_height": null,
      "max_width": null,
      "min_height": null,
      "min_width": null,
      "object_fit": null,
      "object_position": null,
      "order": null,
      "overflow": null,
      "overflow_x": null,
      "overflow_y": null,
      "padding": null,
      "right": null,
      "top": null,
      "visibility": null,
      "width": null
     }
    },
    "25f7c7825097495a979e90e8b9030a9a": {
     "model_module": "@jupyter-widgets/controls",
     "model_module_version": "1.5.0",
     "model_name": "HBoxModel",
     "state": {
      "_dom_classes": [],
      "_model_module": "@jupyter-widgets/controls",
      "_model_module_version": "1.5.0",
      "_model_name": "HBoxModel",
      "_view_count": null,
      "_view_module": "@jupyter-widgets/controls",
      "_view_module_version": "1.5.0",
      "_view_name": "HBoxView",
      "box_style": "",
      "children": [
       "IPY_MODEL_9fcebab7f39745f29a213d40e7a45b2e",
       "IPY_MODEL_2c57be04377641e792e3029c71b19b26",
       "IPY_MODEL_a09c51b94c9f4928acd36021c2066d3b"
      ],
      "layout": "IPY_MODEL_be8e65aa302f46669c33baa12579bb59"
     }
    },
    "2923155fccdb47e4968634a6c8ef20e3": {
     "model_module": "@jupyter-widgets/base",
     "model_module_version": "1.2.0",
     "model_name": "LayoutModel",
     "state": {
      "_model_module": "@jupyter-widgets/base",
      "_model_module_version": "1.2.0",
      "_model_name": "LayoutModel",
      "_view_count": null,
      "_view_module": "@jupyter-widgets/base",
      "_view_module_version": "1.2.0",
      "_view_name": "LayoutView",
      "align_content": null,
      "align_items": null,
      "align_self": null,
      "border": null,
      "bottom": null,
      "display": null,
      "flex": null,
      "flex_flow": null,
      "grid_area": null,
      "grid_auto_columns": null,
      "grid_auto_flow": null,
      "grid_auto_rows": null,
      "grid_column": null,
      "grid_gap": null,
      "grid_row": null,
      "grid_template_areas": null,
      "grid_template_columns": null,
      "grid_template_rows": null,
      "height": null,
      "justify_content": null,
      "justify_items": null,
      "left": null,
      "margin": null,
      "max_height": null,
      "max_width": null,
      "min_height": null,
      "min_width": null,
      "object_fit": null,
      "object_position": null,
      "order": null,
      "overflow": null,
      "overflow_x": null,
      "overflow_y": null,
      "padding": null,
      "right": null,
      "top": null,
      "visibility": null,
      "width": null
     }
    },
    "2c57be04377641e792e3029c71b19b26": {
     "model_module": "@jupyter-widgets/controls",
     "model_module_version": "1.5.0",
     "model_name": "FloatProgressModel",
     "state": {
      "_dom_classes": [],
      "_model_module": "@jupyter-widgets/controls",
      "_model_module_version": "1.5.0",
      "_model_name": "FloatProgressModel",
      "_view_count": null,
      "_view_module": "@jupyter-widgets/controls",
      "_view_module_version": "1.5.0",
      "_view_name": "ProgressView",
      "bar_style": "danger",
      "description": "",
      "description_tooltip": null,
      "layout": "IPY_MODEL_ded883eb442a485e845a6a977baa3557",
      "max": 5,
      "min": 0,
      "orientation": "horizontal",
      "style": "IPY_MODEL_a9b37645daf34c7bbb3c191c4d44d747",
      "value": 0
     }
    },
    "31aadbdef46146d9a17250f4674ad488": {
     "model_module": "@jupyter-widgets/controls",
     "model_module_version": "1.5.0",
     "model_name": "HTMLModel",
     "state": {
      "_dom_classes": [],
      "_model_module": "@jupyter-widgets/controls",
      "_model_module_version": "1.5.0",
      "_model_name": "HTMLModel",
      "_view_count": null,
      "_view_module": "@jupyter-widgets/controls",
      "_view_module_version": "1.5.0",
      "_view_name": "HTMLView",
      "description": "",
      "description_tooltip": null,
      "layout": "IPY_MODEL_70e404a9c47d473c9e76ce944a17f13c",
      "placeholder": "​",
      "style": "IPY_MODEL_a4ce3817567f4d7a84b9404248b13d3e",
      "value": "  0%"
     }
    },
    "335567db2a594bf680f0b7a99d3632be": {
     "model_module": "@jupyter-widgets/controls",
     "model_module_version": "1.5.0",
     "model_name": "HTMLModel",
     "state": {
      "_dom_classes": [],
      "_model_module": "@jupyter-widgets/controls",
      "_model_module_version": "1.5.0",
      "_model_name": "HTMLModel",
      "_view_count": null,
      "_view_module": "@jupyter-widgets/controls",
      "_view_module_version": "1.5.0",
      "_view_name": "HTMLView",
      "description": "",
      "description_tooltip": null,
      "layout": "IPY_MODEL_7f56e29da0854823a5e3c13188483973",
      "placeholder": "​",
      "style": "IPY_MODEL_4bf3658c4a854fd9842ee389fadae6c4",
      "value": " 0/3 [00:18&lt;?, ?it/s]"
     }
    },
    "34bf8ae7a2dd4eb49c2d839ebf63a447": {
     "model_module": "@jupyter-widgets/base",
     "model_module_version": "1.2.0",
     "model_name": "LayoutModel",
     "state": {
      "_model_module": "@jupyter-widgets/base",
      "_model_module_version": "1.2.0",
      "_model_name": "LayoutModel",
      "_view_count": null,
      "_view_module": "@jupyter-widgets/base",
      "_view_module_version": "1.2.0",
      "_view_name": "LayoutView",
      "align_content": null,
      "align_items": null,
      "align_self": null,
      "border": null,
      "bottom": null,
      "display": null,
      "flex": null,
      "flex_flow": null,
      "grid_area": null,
      "grid_auto_columns": null,
      "grid_auto_flow": null,
      "grid_auto_rows": null,
      "grid_column": null,
      "grid_gap": null,
      "grid_row": null,
      "grid_template_areas": null,
      "grid_template_columns": null,
      "grid_template_rows": null,
      "height": null,
      "justify_content": null,
      "justify_items": null,
      "left": null,
      "margin": null,
      "max_height": null,
      "max_width": null,
      "min_height": null,
      "min_width": null,
      "object_fit": null,
      "object_position": null,
      "order": null,
      "overflow": null,
      "overflow_x": null,
      "overflow_y": null,
      "padding": null,
      "right": null,
      "top": null,
      "visibility": null,
      "width": null
     }
    },
    "4193d80be7b345b0b128cf828ed55908": {
     "model_module": "@jupyter-widgets/base",
     "model_module_version": "1.2.0",
     "model_name": "LayoutModel",
     "state": {
      "_model_module": "@jupyter-widgets/base",
      "_model_module_version": "1.2.0",
      "_model_name": "LayoutModel",
      "_view_count": null,
      "_view_module": "@jupyter-widgets/base",
      "_view_module_version": "1.2.0",
      "_view_name": "LayoutView",
      "align_content": null,
      "align_items": null,
      "align_self": null,
      "border": null,
      "bottom": null,
      "display": null,
      "flex": null,
      "flex_flow": null,
      "grid_area": null,
      "grid_auto_columns": null,
      "grid_auto_flow": null,
      "grid_auto_rows": null,
      "grid_column": null,
      "grid_gap": null,
      "grid_row": null,
      "grid_template_areas": null,
      "grid_template_columns": null,
      "grid_template_rows": null,
      "height": null,
      "justify_content": null,
      "justify_items": null,
      "left": null,
      "margin": null,
      "max_height": null,
      "max_width": null,
      "min_height": null,
      "min_width": null,
      "object_fit": null,
      "object_position": null,
      "order": null,
      "overflow": null,
      "overflow_x": null,
      "overflow_y": null,
      "padding": null,
      "right": null,
      "top": null,
      "visibility": null,
      "width": null
     }
    },
    "42d0ef4ac71944b8bec7c862afea2f45": {
     "model_module": "@jupyter-widgets/base",
     "model_module_version": "1.2.0",
     "model_name": "LayoutModel",
     "state": {
      "_model_module": "@jupyter-widgets/base",
      "_model_module_version": "1.2.0",
      "_model_name": "LayoutModel",
      "_view_count": null,
      "_view_module": "@jupyter-widgets/base",
      "_view_module_version": "1.2.0",
      "_view_name": "LayoutView",
      "align_content": null,
      "align_items": null,
      "align_self": null,
      "border": null,
      "bottom": null,
      "display": null,
      "flex": null,
      "flex_flow": null,
      "grid_area": null,
      "grid_auto_columns": null,
      "grid_auto_flow": null,
      "grid_auto_rows": null,
      "grid_column": null,
      "grid_gap": null,
      "grid_row": null,
      "grid_template_areas": null,
      "grid_template_columns": null,
      "grid_template_rows": null,
      "height": null,
      "justify_content": null,
      "justify_items": null,
      "left": null,
      "margin": null,
      "max_height": null,
      "max_width": null,
      "min_height": null,
      "min_width": null,
      "object_fit": null,
      "object_position": null,
      "order": null,
      "overflow": null,
      "overflow_x": null,
      "overflow_y": null,
      "padding": null,
      "right": null,
      "top": null,
      "visibility": null,
      "width": null
     }
    },
    "4bf3658c4a854fd9842ee389fadae6c4": {
     "model_module": "@jupyter-widgets/controls",
     "model_module_version": "1.5.0",
     "model_name": "DescriptionStyleModel",
     "state": {
      "_model_module": "@jupyter-widgets/controls",
      "_model_module_version": "1.5.0",
      "_model_name": "DescriptionStyleModel",
      "_view_count": null,
      "_view_module": "@jupyter-widgets/base",
      "_view_module_version": "1.2.0",
      "_view_name": "StyleView",
      "description_width": ""
     }
    },
    "4c4721e48908473f9c82bad04ea2c4eb": {
     "model_module": "@jupyter-widgets/controls",
     "model_module_version": "1.5.0",
     "model_name": "ProgressStyleModel",
     "state": {
      "_model_module": "@jupyter-widgets/controls",
      "_model_module_version": "1.5.0",
      "_model_name": "ProgressStyleModel",
      "_view_count": null,
      "_view_module": "@jupyter-widgets/base",
      "_view_module_version": "1.2.0",
      "_view_name": "StyleView",
      "bar_color": null,
      "description_width": ""
     }
    },
    "559a6531bdd24b1697f7726c63ef1209": {
     "model_module": "@jupyter-widgets/controls",
     "model_module_version": "1.5.0",
     "model_name": "HTMLModel",
     "state": {
      "_dom_classes": [],
      "_model_module": "@jupyter-widgets/controls",
      "_model_module_version": "1.5.0",
      "_model_name": "HTMLModel",
      "_view_count": null,
      "_view_module": "@jupyter-widgets/controls",
      "_view_module_version": "1.5.0",
      "_view_name": "HTMLView",
      "description": "",
      "description_tooltip": null,
      "layout": "IPY_MODEL_e8d7c30bac3248bb8ba955ba21ccd8d6",
      "placeholder": "​",
      "style": "IPY_MODEL_ef3e30eaa6394ab5845486e9d8fe3626",
      "value": " 1/5 [00:18&lt;00:41, 10.37s/it]"
     }
    },
    "58b060c759af48f6abb3cb105fc9784d": {
     "model_module": "@jupyter-widgets/controls",
     "model_module_version": "1.5.0",
     "model_name": "DescriptionStyleModel",
     "state": {
      "_model_module": "@jupyter-widgets/controls",
      "_model_module_version": "1.5.0",
      "_model_name": "DescriptionStyleModel",
      "_view_count": null,
      "_view_module": "@jupyter-widgets/base",
      "_view_module_version": "1.2.0",
      "_view_name": "StyleView",
      "description_width": ""
     }
    },
    "5d27637e7c5644759341bdea3e3fc70a": {
     "model_module": "@jupyter-widgets/controls",
     "model_module_version": "1.5.0",
     "model_name": "HBoxModel",
     "state": {
      "_dom_classes": [],
      "_model_module": "@jupyter-widgets/controls",
      "_model_module_version": "1.5.0",
      "_model_name": "HBoxModel",
      "_view_count": null,
      "_view_module": "@jupyter-widgets/controls",
      "_view_module_version": "1.5.0",
      "_view_name": "HBoxView",
      "box_style": "",
      "children": [
       "IPY_MODEL_b66268d9dba64589b6b932d26c294f72",
       "IPY_MODEL_109b3c61d037468382cddc26baf08c16",
       "IPY_MODEL_559a6531bdd24b1697f7726c63ef1209"
      ],
      "layout": "IPY_MODEL_96e4727e1aee44089e777bd1f82bae58"
     }
    },
    "66d667327a3a4707b8a8002daed69287": {
     "model_module": "@jupyter-widgets/controls",
     "model_module_version": "1.5.0",
     "model_name": "DescriptionStyleModel",
     "state": {
      "_model_module": "@jupyter-widgets/controls",
      "_model_module_version": "1.5.0",
      "_model_name": "DescriptionStyleModel",
      "_view_count": null,
      "_view_module": "@jupyter-widgets/base",
      "_view_module_version": "1.2.0",
      "_view_name": "StyleView",
      "description_width": ""
     }
    },
    "6b6a7d48e38045b3bf625d45e50fa801": {
     "model_module": "@jupyter-widgets/controls",
     "model_module_version": "1.5.0",
     "model_name": "HTMLModel",
     "state": {
      "_dom_classes": [],
      "_model_module": "@jupyter-widgets/controls",
      "_model_module_version": "1.5.0",
      "_model_name": "HTMLModel",
      "_view_count": null,
      "_view_module": "@jupyter-widgets/controls",
      "_view_module_version": "1.5.0",
      "_view_name": "HTMLView",
      "description": "",
      "description_tooltip": null,
      "layout": "IPY_MODEL_1a20a38fe5624bbaaccef3d57ddac16e",
      "placeholder": "​",
      "style": "IPY_MODEL_a1af30722a5e4aae8ffcd228c5b2eb44",
      "value": " 0/3 [00:18&lt;?, ?it/s]"
     }
    },
    "70e404a9c47d473c9e76ce944a17f13c": {
     "model_module": "@jupyter-widgets/base",
     "model_module_version": "1.2.0",
     "model_name": "LayoutModel",
     "state": {
      "_model_module": "@jupyter-widgets/base",
      "_model_module_version": "1.2.0",
      "_model_name": "LayoutModel",
      "_view_count": null,
      "_view_module": "@jupyter-widgets/base",
      "_view_module_version": "1.2.0",
      "_view_name": "LayoutView",
      "align_content": null,
      "align_items": null,
      "align_self": null,
      "border": null,
      "bottom": null,
      "display": null,
      "flex": null,
      "flex_flow": null,
      "grid_area": null,
      "grid_auto_columns": null,
      "grid_auto_flow": null,
      "grid_auto_rows": null,
      "grid_column": null,
      "grid_gap": null,
      "grid_row": null,
      "grid_template_areas": null,
      "grid_template_columns": null,
      "grid_template_rows": null,
      "height": null,
      "justify_content": null,
      "justify_items": null,
      "left": null,
      "margin": null,
      "max_height": null,
      "max_width": null,
      "min_height": null,
      "min_width": null,
      "object_fit": null,
      "object_position": null,
      "order": null,
      "overflow": null,
      "overflow_x": null,
      "overflow_y": null,
      "padding": null,
      "right": null,
      "top": null,
      "visibility": null,
      "width": null
     }
    },
    "77d495cced704dc898caa35d6a1f1585": {
     "model_module": "@jupyter-widgets/controls",
     "model_module_version": "1.5.0",
     "model_name": "HTMLModel",
     "state": {
      "_dom_classes": [],
      "_model_module": "@jupyter-widgets/controls",
      "_model_module_version": "1.5.0",
      "_model_name": "HTMLModel",
      "_view_count": null,
      "_view_module": "@jupyter-widgets/controls",
      "_view_module_version": "1.5.0",
      "_view_name": "HTMLView",
      "description": "",
      "description_tooltip": null,
      "layout": "IPY_MODEL_b10a358f40184d28885e978b4d90b1f2",
      "placeholder": "​",
      "style": "IPY_MODEL_66d667327a3a4707b8a8002daed69287",
      "value": "  0%"
     }
    },
    "7f56e29da0854823a5e3c13188483973": {
     "model_module": "@jupyter-widgets/base",
     "model_module_version": "1.2.0",
     "model_name": "LayoutModel",
     "state": {
      "_model_module": "@jupyter-widgets/base",
      "_model_module_version": "1.2.0",
      "_model_name": "LayoutModel",
      "_view_count": null,
      "_view_module": "@jupyter-widgets/base",
      "_view_module_version": "1.2.0",
      "_view_name": "LayoutView",
      "align_content": null,
      "align_items": null,
      "align_self": null,
      "border": null,
      "bottom": null,
      "display": null,
      "flex": null,
      "flex_flow": null,
      "grid_area": null,
      "grid_auto_columns": null,
      "grid_auto_flow": null,
      "grid_auto_rows": null,
      "grid_column": null,
      "grid_gap": null,
      "grid_row": null,
      "grid_template_areas": null,
      "grid_template_columns": null,
      "grid_template_rows": null,
      "height": null,
      "justify_content": null,
      "justify_items": null,
      "left": null,
      "margin": null,
      "max_height": null,
      "max_width": null,
      "min_height": null,
      "min_width": null,
      "object_fit": null,
      "object_position": null,
      "order": null,
      "overflow": null,
      "overflow_x": null,
      "overflow_y": null,
      "padding": null,
      "right": null,
      "top": null,
      "visibility": null,
      "width": null
     }
    },
    "83ba745c32b84199a38c629787407eca": {
     "model_module": "@jupyter-widgets/base",
     "model_module_version": "1.2.0",
     "model_name": "LayoutModel",
     "state": {
      "_model_module": "@jupyter-widgets/base",
      "_model_module_version": "1.2.0",
      "_model_name": "LayoutModel",
      "_view_count": null,
      "_view_module": "@jupyter-widgets/base",
      "_view_module_version": "1.2.0",
      "_view_name": "LayoutView",
      "align_content": null,
      "align_items": null,
      "align_self": null,
      "border": null,
      "bottom": null,
      "display": null,
      "flex": null,
      "flex_flow": null,
      "grid_area": null,
      "grid_auto_columns": null,
      "grid_auto_flow": null,
      "grid_auto_rows": null,
      "grid_column": null,
      "grid_gap": null,
      "grid_row": null,
      "grid_template_areas": null,
      "grid_template_columns": null,
      "grid_template_rows": null,
      "height": null,
      "justify_content": null,
      "justify_items": null,
      "left": null,
      "margin": null,
      "max_height": null,
      "max_width": null,
      "min_height": null,
      "min_width": null,
      "object_fit": null,
      "object_position": null,
      "order": null,
      "overflow": null,
      "overflow_x": null,
      "overflow_y": null,
      "padding": null,
      "right": null,
      "top": null,
      "visibility": null,
      "width": null
     }
    },
    "8638a433405c409ba422c7f60d4041b6": {
     "model_module": "@jupyter-widgets/controls",
     "model_module_version": "1.5.0",
     "model_name": "ProgressStyleModel",
     "state": {
      "_model_module": "@jupyter-widgets/controls",
      "_model_module_version": "1.5.0",
      "_model_name": "ProgressStyleModel",
      "_view_count": null,
      "_view_module": "@jupyter-widgets/base",
      "_view_module_version": "1.2.0",
      "_view_name": "StyleView",
      "bar_color": null,
      "description_width": ""
     }
    },
    "8d7e89c67652431ea0fbef8baf5cd5ee": {
     "model_module": "@jupyter-widgets/controls",
     "model_module_version": "1.5.0",
     "model_name": "DescriptionStyleModel",
     "state": {
      "_model_module": "@jupyter-widgets/controls",
      "_model_module_version": "1.5.0",
      "_model_name": "DescriptionStyleModel",
      "_view_count": null,
      "_view_module": "@jupyter-widgets/base",
      "_view_module_version": "1.2.0",
      "_view_name": "StyleView",
      "description_width": ""
     }
    },
    "939b707789404a998892810921c38de9": {
     "model_module": "@jupyter-widgets/base",
     "model_module_version": "1.2.0",
     "model_name": "LayoutModel",
     "state": {
      "_model_module": "@jupyter-widgets/base",
      "_model_module_version": "1.2.0",
      "_model_name": "LayoutModel",
      "_view_count": null,
      "_view_module": "@jupyter-widgets/base",
      "_view_module_version": "1.2.0",
      "_view_name": "LayoutView",
      "align_content": null,
      "align_items": null,
      "align_self": null,
      "border": null,
      "bottom": null,
      "display": null,
      "flex": null,
      "flex_flow": null,
      "grid_area": null,
      "grid_auto_columns": null,
      "grid_auto_flow": null,
      "grid_auto_rows": null,
      "grid_column": null,
      "grid_gap": null,
      "grid_row": null,
      "grid_template_areas": null,
      "grid_template_columns": null,
      "grid_template_rows": null,
      "height": null,
      "justify_content": null,
      "justify_items": null,
      "left": null,
      "margin": null,
      "max_height": null,
      "max_width": null,
      "min_height": null,
      "min_width": null,
      "object_fit": null,
      "object_position": null,
      "order": null,
      "overflow": null,
      "overflow_x": null,
      "overflow_y": null,
      "padding": null,
      "right": null,
      "top": null,
      "visibility": null,
      "width": null
     }
    },
    "96e4727e1aee44089e777bd1f82bae58": {
     "model_module": "@jupyter-widgets/base",
     "model_module_version": "1.2.0",
     "model_name": "LayoutModel",
     "state": {
      "_model_module": "@jupyter-widgets/base",
      "_model_module_version": "1.2.0",
      "_model_name": "LayoutModel",
      "_view_count": null,
      "_view_module": "@jupyter-widgets/base",
      "_view_module_version": "1.2.0",
      "_view_name": "LayoutView",
      "align_content": null,
      "align_items": null,
      "align_self": null,
      "border": null,
      "bottom": null,
      "display": null,
      "flex": null,
      "flex_flow": null,
      "grid_area": null,
      "grid_auto_columns": null,
      "grid_auto_flow": null,
      "grid_auto_rows": null,
      "grid_column": null,
      "grid_gap": null,
      "grid_row": null,
      "grid_template_areas": null,
      "grid_template_columns": null,
      "grid_template_rows": null,
      "height": null,
      "justify_content": null,
      "justify_items": null,
      "left": null,
      "margin": null,
      "max_height": null,
      "max_width": null,
      "min_height": null,
      "min_width": null,
      "object_fit": null,
      "object_position": null,
      "order": null,
      "overflow": null,
      "overflow_x": null,
      "overflow_y": null,
      "padding": null,
      "right": null,
      "top": null,
      "visibility": null,
      "width": null
     }
    },
    "9ea747b26fa44007a0276bb676111ff2": {
     "model_module": "@jupyter-widgets/controls",
     "model_module_version": "1.5.0",
     "model_name": "FloatProgressModel",
     "state": {
      "_dom_classes": [],
      "_model_module": "@jupyter-widgets/controls",
      "_model_module_version": "1.5.0",
      "_model_name": "FloatProgressModel",
      "_view_count": null,
      "_view_module": "@jupyter-widgets/controls",
      "_view_module_version": "1.5.0",
      "_view_name": "ProgressView",
      "bar_style": "danger",
      "description": "",
      "description_tooltip": null,
      "layout": "IPY_MODEL_939b707789404a998892810921c38de9",
      "max": 3,
      "min": 0,
      "orientation": "horizontal",
      "style": "IPY_MODEL_8638a433405c409ba422c7f60d4041b6",
      "value": 0
     }
    },
    "9f13087c08b04b6db15d7eb5708c3da6": {
     "model_module": "@jupyter-widgets/base",
     "model_module_version": "1.2.0",
     "model_name": "LayoutModel",
     "state": {
      "_model_module": "@jupyter-widgets/base",
      "_model_module_version": "1.2.0",
      "_model_name": "LayoutModel",
      "_view_count": null,
      "_view_module": "@jupyter-widgets/base",
      "_view_module_version": "1.2.0",
      "_view_name": "LayoutView",
      "align_content": null,
      "align_items": null,
      "align_self": null,
      "border": null,
      "bottom": null,
      "display": null,
      "flex": null,
      "flex_flow": null,
      "grid_area": null,
      "grid_auto_columns": null,
      "grid_auto_flow": null,
      "grid_auto_rows": null,
      "grid_column": null,
      "grid_gap": null,
      "grid_row": null,
      "grid_template_areas": null,
      "grid_template_columns": null,
      "grid_template_rows": null,
      "height": null,
      "justify_content": null,
      "justify_items": null,
      "left": null,
      "margin": null,
      "max_height": null,
      "max_width": null,
      "min_height": null,
      "min_width": null,
      "object_fit": null,
      "object_position": null,
      "order": null,
      "overflow": null,
      "overflow_x": null,
      "overflow_y": null,
      "padding": null,
      "right": null,
      "top": null,
      "visibility": null,
      "width": null
     }
    },
    "9f31e506c3de4fef997e8c0710910db6": {
     "model_module": "@jupyter-widgets/controls",
     "model_module_version": "1.5.0",
     "model_name": "ProgressStyleModel",
     "state": {
      "_model_module": "@jupyter-widgets/controls",
      "_model_module_version": "1.5.0",
      "_model_name": "ProgressStyleModel",
      "_view_count": null,
      "_view_module": "@jupyter-widgets/base",
      "_view_module_version": "1.2.0",
      "_view_name": "StyleView",
      "bar_color": null,
      "description_width": ""
     }
    },
    "9fab234076ee478588d75385fb03be64": {
     "model_module": "@jupyter-widgets/controls",
     "model_module_version": "1.5.0",
     "model_name": "DescriptionStyleModel",
     "state": {
      "_model_module": "@jupyter-widgets/controls",
      "_model_module_version": "1.5.0",
      "_model_name": "DescriptionStyleModel",
      "_view_count": null,
      "_view_module": "@jupyter-widgets/base",
      "_view_module_version": "1.2.0",
      "_view_name": "StyleView",
      "description_width": ""
     }
    },
    "9fcebab7f39745f29a213d40e7a45b2e": {
     "model_module": "@jupyter-widgets/controls",
     "model_module_version": "1.5.0",
     "model_name": "HTMLModel",
     "state": {
      "_dom_classes": [],
      "_model_module": "@jupyter-widgets/controls",
      "_model_module_version": "1.5.0",
      "_model_name": "HTMLModel",
      "_view_count": null,
      "_view_module": "@jupyter-widgets/controls",
      "_view_module_version": "1.5.0",
      "_view_name": "HTMLView",
      "description": "",
      "description_tooltip": null,
      "layout": "IPY_MODEL_0d487a3b72f14eddbe4d4d05aa765a0e",
      "placeholder": "​",
      "style": "IPY_MODEL_9fab234076ee478588d75385fb03be64",
      "value": "  0%"
     }
    },
    "a09c51b94c9f4928acd36021c2066d3b": {
     "model_module": "@jupyter-widgets/controls",
     "model_module_version": "1.5.0",
     "model_name": "HTMLModel",
     "state": {
      "_dom_classes": [],
      "_model_module": "@jupyter-widgets/controls",
      "_model_module_version": "1.5.0",
      "_model_name": "HTMLModel",
      "_view_count": null,
      "_view_module": "@jupyter-widgets/controls",
      "_view_module_version": "1.5.0",
      "_view_name": "HTMLView",
      "description": "",
      "description_tooltip": null,
      "layout": "IPY_MODEL_1a48acbadd134922bdc67044632d04f0",
      "placeholder": "​",
      "style": "IPY_MODEL_fa5890ca6ca8471a98530beb7430db80",
      "value": " 0/5 [00:18&lt;?, ?it/s]"
     }
    },
    "a1af30722a5e4aae8ffcd228c5b2eb44": {
     "model_module": "@jupyter-widgets/controls",
     "model_module_version": "1.5.0",
     "model_name": "DescriptionStyleModel",
     "state": {
      "_model_module": "@jupyter-widgets/controls",
      "_model_module_version": "1.5.0",
      "_model_name": "DescriptionStyleModel",
      "_view_count": null,
      "_view_module": "@jupyter-widgets/base",
      "_view_module_version": "1.2.0",
      "_view_name": "StyleView",
      "description_width": ""
     }
    },
    "a4ce3817567f4d7a84b9404248b13d3e": {
     "model_module": "@jupyter-widgets/controls",
     "model_module_version": "1.5.0",
     "model_name": "DescriptionStyleModel",
     "state": {
      "_model_module": "@jupyter-widgets/controls",
      "_model_module_version": "1.5.0",
      "_model_name": "DescriptionStyleModel",
      "_view_count": null,
      "_view_module": "@jupyter-widgets/base",
      "_view_module_version": "1.2.0",
      "_view_name": "StyleView",
      "description_width": ""
     }
    },
    "a9b37645daf34c7bbb3c191c4d44d747": {
     "model_module": "@jupyter-widgets/controls",
     "model_module_version": "1.5.0",
     "model_name": "ProgressStyleModel",
     "state": {
      "_model_module": "@jupyter-widgets/controls",
      "_model_module_version": "1.5.0",
      "_model_name": "ProgressStyleModel",
      "_view_count": null,
      "_view_module": "@jupyter-widgets/base",
      "_view_module_version": "1.2.0",
      "_view_name": "StyleView",
      "bar_color": null,
      "description_width": ""
     }
    },
    "b10a358f40184d28885e978b4d90b1f2": {
     "model_module": "@jupyter-widgets/base",
     "model_module_version": "1.2.0",
     "model_name": "LayoutModel",
     "state": {
      "_model_module": "@jupyter-widgets/base",
      "_model_module_version": "1.2.0",
      "_model_name": "LayoutModel",
      "_view_count": null,
      "_view_module": "@jupyter-widgets/base",
      "_view_module_version": "1.2.0",
      "_view_name": "LayoutView",
      "align_content": null,
      "align_items": null,
      "align_self": null,
      "border": null,
      "bottom": null,
      "display": null,
      "flex": null,
      "flex_flow": null,
      "grid_area": null,
      "grid_auto_columns": null,
      "grid_auto_flow": null,
      "grid_auto_rows": null,
      "grid_column": null,
      "grid_gap": null,
      "grid_row": null,
      "grid_template_areas": null,
      "grid_template_columns": null,
      "grid_template_rows": null,
      "height": null,
      "justify_content": null,
      "justify_items": null,
      "left": null,
      "margin": null,
      "max_height": null,
      "max_width": null,
      "min_height": null,
      "min_width": null,
      "object_fit": null,
      "object_position": null,
      "order": null,
      "overflow": null,
      "overflow_x": null,
      "overflow_y": null,
      "padding": null,
      "right": null,
      "top": null,
      "visibility": null,
      "width": null
     }
    },
    "b66268d9dba64589b6b932d26c294f72": {
     "model_module": "@jupyter-widgets/controls",
     "model_module_version": "1.5.0",
     "model_name": "HTMLModel",
     "state": {
      "_dom_classes": [],
      "_model_module": "@jupyter-widgets/controls",
      "_model_module_version": "1.5.0",
      "_model_name": "HTMLModel",
      "_view_count": null,
      "_view_module": "@jupyter-widgets/controls",
      "_view_module_version": "1.5.0",
      "_view_name": "HTMLView",
      "description": "",
      "description_tooltip": null,
      "layout": "IPY_MODEL_fffba81b65724c48acef1053b8e56c7b",
      "placeholder": "​",
      "style": "IPY_MODEL_f1b4e998522c4c0bb61f291d78ef5cc5",
      "value": " 20%"
     }
    },
    "be8e65aa302f46669c33baa12579bb59": {
     "model_module": "@jupyter-widgets/base",
     "model_module_version": "1.2.0",
     "model_name": "LayoutModel",
     "state": {
      "_model_module": "@jupyter-widgets/base",
      "_model_module_version": "1.2.0",
      "_model_name": "LayoutModel",
      "_view_count": null,
      "_view_module": "@jupyter-widgets/base",
      "_view_module_version": "1.2.0",
      "_view_name": "LayoutView",
      "align_content": null,
      "align_items": null,
      "align_self": null,
      "border": null,
      "bottom": null,
      "display": null,
      "flex": null,
      "flex_flow": null,
      "grid_area": null,
      "grid_auto_columns": null,
      "grid_auto_flow": null,
      "grid_auto_rows": null,
      "grid_column": null,
      "grid_gap": null,
      "grid_row": null,
      "grid_template_areas": null,
      "grid_template_columns": null,
      "grid_template_rows": null,
      "height": null,
      "justify_content": null,
      "justify_items": null,
      "left": null,
      "margin": null,
      "max_height": null,
      "max_width": null,
      "min_height": null,
      "min_width": null,
      "object_fit": null,
      "object_position": null,
      "order": null,
      "overflow": null,
      "overflow_x": null,
      "overflow_y": null,
      "padding": null,
      "right": null,
      "top": null,
      "visibility": null,
      "width": null
     }
    },
    "c4f82dea1d754bb1851c5ea9621c1152": {
     "model_module": "@jupyter-widgets/controls",
     "model_module_version": "1.5.0",
     "model_name": "HTMLModel",
     "state": {
      "_dom_classes": [],
      "_model_module": "@jupyter-widgets/controls",
      "_model_module_version": "1.5.0",
      "_model_name": "HTMLModel",
      "_view_count": null,
      "_view_module": "@jupyter-widgets/controls",
      "_view_module_version": "1.5.0",
      "_view_name": "HTMLView",
      "description": "",
      "description_tooltip": null,
      "layout": "IPY_MODEL_eb7c55cf1b03426a9d3f104aa08cf9ed",
      "placeholder": "​",
      "style": "IPY_MODEL_58b060c759af48f6abb3cb105fc9784d",
      "value": "  0%"
     }
    },
    "d8529dbef86844219bd05ad9f91a3642": {
     "model_module": "@jupyter-widgets/controls",
     "model_module_version": "1.5.0",
     "model_name": "HTMLModel",
     "state": {
      "_dom_classes": [],
      "_model_module": "@jupyter-widgets/controls",
      "_model_module_version": "1.5.0",
      "_model_name": "HTMLModel",
      "_view_count": null,
      "_view_module": "@jupyter-widgets/controls",
      "_view_module_version": "1.5.0",
      "_view_name": "HTMLView",
      "description": "",
      "description_tooltip": null,
      "layout": "IPY_MODEL_1a0db1b4db474c4d9e005b2b536441af",
      "placeholder": "​",
      "style": "IPY_MODEL_8d7e89c67652431ea0fbef8baf5cd5ee",
      "value": " 0/5 [00:18&lt;?, ?it/s]"
     }
    },
    "ded883eb442a485e845a6a977baa3557": {
     "model_module": "@jupyter-widgets/base",
     "model_module_version": "1.2.0",
     "model_name": "LayoutModel",
     "state": {
      "_model_module": "@jupyter-widgets/base",
      "_model_module_version": "1.2.0",
      "_model_name": "LayoutModel",
      "_view_count": null,
      "_view_module": "@jupyter-widgets/base",
      "_view_module_version": "1.2.0",
      "_view_name": "LayoutView",
      "align_content": null,
      "align_items": null,
      "align_self": null,
      "border": null,
      "bottom": null,
      "display": null,
      "flex": null,
      "flex_flow": null,
      "grid_area": null,
      "grid_auto_columns": null,
      "grid_auto_flow": null,
      "grid_auto_rows": null,
      "grid_column": null,
      "grid_gap": null,
      "grid_row": null,
      "grid_template_areas": null,
      "grid_template_columns": null,
      "grid_template_rows": null,
      "height": null,
      "justify_content": null,
      "justify_items": null,
      "left": null,
      "margin": null,
      "max_height": null,
      "max_width": null,
      "min_height": null,
      "min_width": null,
      "object_fit": null,
      "object_position": null,
      "order": null,
      "overflow": null,
      "overflow_x": null,
      "overflow_y": null,
      "padding": null,
      "right": null,
      "top": null,
      "visibility": null,
      "width": null
     }
    },
    "e1cff5a08f504fc1b37dc6549713c335": {
     "model_module": "@jupyter-widgets/controls",
     "model_module_version": "1.5.0",
     "model_name": "HBoxModel",
     "state": {
      "_dom_classes": [],
      "_model_module": "@jupyter-widgets/controls",
      "_model_module_version": "1.5.0",
      "_model_name": "HBoxModel",
      "_view_count": null,
      "_view_module": "@jupyter-widgets/controls",
      "_view_module_version": "1.5.0",
      "_view_name": "HBoxView",
      "box_style": "",
      "children": [
       "IPY_MODEL_77d495cced704dc898caa35d6a1f1585",
       "IPY_MODEL_fc4448a1a67a47cba6a9ddb3f294c01f",
       "IPY_MODEL_335567db2a594bf680f0b7a99d3632be"
      ],
      "layout": "IPY_MODEL_42d0ef4ac71944b8bec7c862afea2f45"
     }
    },
    "e8d7c30bac3248bb8ba955ba21ccd8d6": {
     "model_module": "@jupyter-widgets/base",
     "model_module_version": "1.2.0",
     "model_name": "LayoutModel",
     "state": {
      "_model_module": "@jupyter-widgets/base",
      "_model_module_version": "1.2.0",
      "_model_name": "LayoutModel",
      "_view_count": null,
      "_view_module": "@jupyter-widgets/base",
      "_view_module_version": "1.2.0",
      "_view_name": "LayoutView",
      "align_content": null,
      "align_items": null,
      "align_self": null,
      "border": null,
      "bottom": null,
      "display": null,
      "flex": null,
      "flex_flow": null,
      "grid_area": null,
      "grid_auto_columns": null,
      "grid_auto_flow": null,
      "grid_auto_rows": null,
      "grid_column": null,
      "grid_gap": null,
      "grid_row": null,
      "grid_template_areas": null,
      "grid_template_columns": null,
      "grid_template_rows": null,
      "height": null,
      "justify_content": null,
      "justify_items": null,
      "left": null,
      "margin": null,
      "max_height": null,
      "max_width": null,
      "min_height": null,
      "min_width": null,
      "object_fit": null,
      "object_position": null,
      "order": null,
      "overflow": null,
      "overflow_x": null,
      "overflow_y": null,
      "padding": null,
      "right": null,
      "top": null,
      "visibility": null,
      "width": null
     }
    },
    "eb7c55cf1b03426a9d3f104aa08cf9ed": {
     "model_module": "@jupyter-widgets/base",
     "model_module_version": "1.2.0",
     "model_name": "LayoutModel",
     "state": {
      "_model_module": "@jupyter-widgets/base",
      "_model_module_version": "1.2.0",
      "_model_name": "LayoutModel",
      "_view_count": null,
      "_view_module": "@jupyter-widgets/base",
      "_view_module_version": "1.2.0",
      "_view_name": "LayoutView",
      "align_content": null,
      "align_items": null,
      "align_self": null,
      "border": null,
      "bottom": null,
      "display": null,
      "flex": null,
      "flex_flow": null,
      "grid_area": null,
      "grid_auto_columns": null,
      "grid_auto_flow": null,
      "grid_auto_rows": null,
      "grid_column": null,
      "grid_gap": null,
      "grid_row": null,
      "grid_template_areas": null,
      "grid_template_columns": null,
      "grid_template_rows": null,
      "height": null,
      "justify_content": null,
      "justify_items": null,
      "left": null,
      "margin": null,
      "max_height": null,
      "max_width": null,
      "min_height": null,
      "min_width": null,
      "object_fit": null,
      "object_position": null,
      "order": null,
      "overflow": null,
      "overflow_x": null,
      "overflow_y": null,
      "padding": null,
      "right": null,
      "top": null,
      "visibility": null,
      "width": null
     }
    },
    "ee31af1f68c24ebb94528d3422669a08": {
     "model_module": "@jupyter-widgets/controls",
     "model_module_version": "1.5.0",
     "model_name": "HBoxModel",
     "state": {
      "_dom_classes": [],
      "_model_module": "@jupyter-widgets/controls",
      "_model_module_version": "1.5.0",
      "_model_name": "HBoxModel",
      "_view_count": null,
      "_view_module": "@jupyter-widgets/controls",
      "_view_module_version": "1.5.0",
      "_view_name": "HBoxView",
      "box_style": "",
      "children": [
       "IPY_MODEL_c4f82dea1d754bb1851c5ea9621c1152",
       "IPY_MODEL_9ea747b26fa44007a0276bb676111ff2",
       "IPY_MODEL_6b6a7d48e38045b3bf625d45e50fa801"
      ],
      "layout": "IPY_MODEL_4193d80be7b345b0b128cf828ed55908"
     }
    },
    "ef3e30eaa6394ab5845486e9d8fe3626": {
     "model_module": "@jupyter-widgets/controls",
     "model_module_version": "1.5.0",
     "model_name": "DescriptionStyleModel",
     "state": {
      "_model_module": "@jupyter-widgets/controls",
      "_model_module_version": "1.5.0",
      "_model_name": "DescriptionStyleModel",
      "_view_count": null,
      "_view_module": "@jupyter-widgets/base",
      "_view_module_version": "1.2.0",
      "_view_name": "StyleView",
      "description_width": ""
     }
    },
    "f1b4e998522c4c0bb61f291d78ef5cc5": {
     "model_module": "@jupyter-widgets/controls",
     "model_module_version": "1.5.0",
     "model_name": "DescriptionStyleModel",
     "state": {
      "_model_module": "@jupyter-widgets/controls",
      "_model_module_version": "1.5.0",
      "_model_name": "DescriptionStyleModel",
      "_view_count": null,
      "_view_module": "@jupyter-widgets/base",
      "_view_module_version": "1.2.0",
      "_view_name": "StyleView",
      "description_width": ""
     }
    },
    "fa5890ca6ca8471a98530beb7430db80": {
     "model_module": "@jupyter-widgets/controls",
     "model_module_version": "1.5.0",
     "model_name": "DescriptionStyleModel",
     "state": {
      "_model_module": "@jupyter-widgets/controls",
      "_model_module_version": "1.5.0",
      "_model_name": "DescriptionStyleModel",
      "_view_count": null,
      "_view_module": "@jupyter-widgets/base",
      "_view_module_version": "1.2.0",
      "_view_name": "StyleView",
      "description_width": ""
     }
    },
    "fb891df0d3b545acaa72631b64fc7dfc": {
     "model_module": "@jupyter-widgets/controls",
     "model_module_version": "1.5.0",
     "model_name": "HBoxModel",
     "state": {
      "_dom_classes": [],
      "_model_module": "@jupyter-widgets/controls",
      "_model_module_version": "1.5.0",
      "_model_name": "HBoxModel",
      "_view_count": null,
      "_view_module": "@jupyter-widgets/controls",
      "_view_module_version": "1.5.0",
      "_view_name": "HBoxView",
      "box_style": "",
      "children": [
       "IPY_MODEL_31aadbdef46146d9a17250f4674ad488",
       "IPY_MODEL_0b7eb42c9f964043b22722b006efb183",
       "IPY_MODEL_d8529dbef86844219bd05ad9f91a3642"
      ],
      "layout": "IPY_MODEL_9f13087c08b04b6db15d7eb5708c3da6"
     }
    },
    "fc4448a1a67a47cba6a9ddb3f294c01f": {
     "model_module": "@jupyter-widgets/controls",
     "model_module_version": "1.5.0",
     "model_name": "FloatProgressModel",
     "state": {
      "_dom_classes": [],
      "_model_module": "@jupyter-widgets/controls",
      "_model_module_version": "1.5.0",
      "_model_name": "FloatProgressModel",
      "_view_count": null,
      "_view_module": "@jupyter-widgets/controls",
      "_view_module_version": "1.5.0",
      "_view_name": "ProgressView",
      "bar_style": "danger",
      "description": "",
      "description_tooltip": null,
      "layout": "IPY_MODEL_2923155fccdb47e4968634a6c8ef20e3",
      "max": 3,
      "min": 0,
      "orientation": "horizontal",
      "style": "IPY_MODEL_0bd95d4f62164f04bf32a85efac34792",
      "value": 0
     }
    },
    "fffba81b65724c48acef1053b8e56c7b": {
     "model_module": "@jupyter-widgets/base",
     "model_module_version": "1.2.0",
     "model_name": "LayoutModel",
     "state": {
      "_model_module": "@jupyter-widgets/base",
      "_model_module_version": "1.2.0",
      "_model_name": "LayoutModel",
      "_view_count": null,
      "_view_module": "@jupyter-widgets/base",
      "_view_module_version": "1.2.0",
      "_view_name": "LayoutView",
      "align_content": null,
      "align_items": null,
      "align_self": null,
      "border": null,
      "bottom": null,
      "display": null,
      "flex": null,
      "flex_flow": null,
      "grid_area": null,
      "grid_auto_columns": null,
      "grid_auto_flow": null,
      "grid_auto_rows": null,
      "grid_column": null,
      "grid_gap": null,
      "grid_row": null,
      "grid_template_areas": null,
      "grid_template_columns": null,
      "grid_template_rows": null,
      "height": null,
      "justify_content": null,
      "justify_items": null,
      "left": null,
      "margin": null,
      "max_height": null,
      "max_width": null,
      "min_height": null,
      "min_width": null,
      "object_fit": null,
      "object_position": null,
      "order": null,
      "overflow": null,
      "overflow_x": null,
      "overflow_y": null,
      "padding": null,
      "right": null,
      "top": null,
      "visibility": null,
      "width": null
     }
    }
   }
  }
 },
 "nbformat": 4,
 "nbformat_minor": 1
}
